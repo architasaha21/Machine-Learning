{
  "nbformat": 4,
  "nbformat_minor": 0,
  "metadata": {
    "colab": {
      "provenance": []
    },
    "kernelspec": {
      "name": "python3",
      "display_name": "Python 3"
    },
    "language_info": {
      "name": "python"
    }
  },
  "cells": [
    {
      "cell_type": "markdown",
      "source": [
        "Email spam is an unsolicited message often sent in bulk for advertising, phishing, or malware. The goal is to build a **machine learning model** that can classify a given message as:\n",
        "\n",
        "- **Spam** (unwanted)\n",
        "- **Ham** (legitimate)\n",
        "\n",
        "This helps email services filter unwanted content automatically."
      ],
      "metadata": {
        "id": "DBY6fhTiJyku"
      }
    },
    {
      "cell_type": "code",
      "execution_count": null,
      "metadata": {
        "id": "0x5dALXQG5FW"
      },
      "outputs": [],
      "source": [
        "#importing the dependencies\n",
        "\n",
        "import numpy as np\n",
        "import pandas as pd\n",
        "from sklearn.model_selection import train_test_split\n",
        "from sklearn.feature_extraction.text import TfidfVectorizer\n",
        "from sklearn.linear_model import LogisticRegression\n",
        "from sklearn.metrics import accuracy_score"
      ]
    },
    {
      "cell_type": "markdown",
      "source": [
        "Data collection and preprocessing:"
      ],
      "metadata": {
        "id": "TG3GfXY9Km52"
      }
    },
    {
      "cell_type": "code",
      "source": [
        "# loading the dataset to a pandas DataFrame\n",
        "raw_mail_dataset=pd.read_csv('/content/mail_data.csv')"
      ],
      "metadata": {
        "id": "vKuz72tNJ4Ug"
      },
      "execution_count": null,
      "outputs": []
    },
    {
      "cell_type": "code",
      "source": [
        "print(raw_mail_dataset)"
      ],
      "metadata": {
        "id": "VkdGxFL-KxOw"
      },
      "execution_count": null,
      "outputs": []
    },
    {
      "cell_type": "code",
      "source": [
        "# replace null values with a null string\n",
        "\n",
        "mail_dataset=raw_mail_dataset.where(pd.notnull(raw_mail_dataset),'')"
      ],
      "metadata": {
        "id": "1INzUlXZK1f2"
      },
      "execution_count": null,
      "outputs": []
    },
    {
      "cell_type": "code",
      "source": [
        "mail_dataset.head(10)"
      ],
      "metadata": {
        "id": "fBpNbv7WLKw3"
      },
      "execution_count": null,
      "outputs": []
    },
    {
      "cell_type": "code",
      "source": [
        "mail_dataset.shape"
      ],
      "metadata": {
        "id": "R9xWKweQLRdu"
      },
      "execution_count": null,
      "outputs": []
    },
    {
      "cell_type": "markdown",
      "source": [
        "Label Encoding: Label Encoding converts categorical (text) data into numeric form so that machine learning algorithms can work with it. Since we are dealing with binary classification labels, label encoding makes it look like this:\n",
        "\n",
        "Original:   ['spam', 'ham', 'spam', 'ham']\n",
        "Encoded:    [0, 1, 0, 1]\n"
      ],
      "metadata": {
        "id": "ZepXz7S4LbF_"
      }
    },
    {
      "cell_type": "code",
      "source": [
        "mail_dataset.loc[mail_dataset['Category']== 'spam', 'Category',]=0\n",
        "mail_dataset.loc[mail_dataset['Category']== 'ham', 'Category',]=1"
      ],
      "metadata": {
        "id": "a9gHrtjPLXmS"
      },
      "execution_count": null,
      "outputs": []
    },
    {
      "cell_type": "markdown",
      "source": [
        "spam=0\n",
        "ham=1"
      ],
      "metadata": {
        "id": "W0ksbd--MgyE"
      }
    },
    {
      "cell_type": "code",
      "source": [
        "# separate the data as text and labels\n",
        "\n",
        "X=mail_dataset['Message']\n",
        "Y=mail_dataset['Category']"
      ],
      "metadata": {
        "id": "F-WQY9_LMQ3S"
      },
      "execution_count": null,
      "outputs": []
    },
    {
      "cell_type": "code",
      "source": [
        "print(X)\n",
        "print(Y)"
      ],
      "metadata": {
        "id": "4_dlriOdM3Bj"
      },
      "execution_count": null,
      "outputs": []
    },
    {
      "cell_type": "code",
      "source": [
        "#splitting the datsset into training data and test data\n",
        "\n",
        "X_train, X_test, Y_train, Y_test = train_test_split(X, Y, test_size=0.2, random_state=2) #random state  makes data to be splitted in different ways"
      ],
      "metadata": {
        "id": "YAIihrUSM8QM"
      },
      "execution_count": null,
      "outputs": []
    },
    {
      "cell_type": "code",
      "source": [
        "print(X.shape)\n",
        "print(X_train.shape)\n",
        "print(X_test.shape)"
      ],
      "metadata": {
        "id": "utMr83loNiqb"
      },
      "execution_count": null,
      "outputs": []
    },
    {
      "cell_type": "markdown",
      "source": [
        "Feature Extraction"
      ],
      "metadata": {
        "id": "bRo4AuhDN1eL"
      }
    },
    {
      "cell_type": "code",
      "source": [
        "#transform the text data to feature vectors that can be used as input to the Logistic regression\n",
        "\n",
        "feature_extraction = TfidfVectorizer(min_df=1, stop_words='english', lowercase=True)\n",
        "\n",
        "X_train_features = feature_extraction.fit_transform(X_train)\n",
        "X_test_features = feature_extraction.transform(X_test)\n",
        "\n",
        "#convert Y_train and Y_test as integers\n",
        "\n",
        "Y_train=Y_train.astype('int')\n",
        "Y_test=Y_test.astype('int')"
      ],
      "metadata": {
        "id": "8Aw-OQTxNzey"
      },
      "execution_count": null,
      "outputs": []
    },
    {
      "cell_type": "code",
      "source": [
        "print(X_train_features)\n",
        "print(X_test_features)"
      ],
      "metadata": {
        "id": "wzdY9qPmpDLP"
      },
      "execution_count": null,
      "outputs": []
    },
    {
      "cell_type": "markdown",
      "source": [
        "Training the Model:\n",
        "\n",
        "Logistic Regression"
      ],
      "metadata": {
        "id": "060GG2hFq5jd"
      }
    },
    {
      "cell_type": "code",
      "source": [
        "model=LogisticRegression()"
      ],
      "metadata": {
        "id": "Ssjmj4tqqykC"
      },
      "execution_count": null,
      "outputs": []
    },
    {
      "cell_type": "code",
      "source": [
        "# training the LogisticRegression model with the training data\n",
        "\n",
        "model.fit(X_train_features,Y_train)"
      ],
      "metadata": {
        "id": "xSZVyD1Kq_vg"
      },
      "execution_count": null,
      "outputs": []
    },
    {
      "cell_type": "markdown",
      "source": [
        "Evaluating the trained model"
      ],
      "metadata": {
        "id": "6No8PWWyrXYa"
      }
    },
    {
      "cell_type": "code",
      "source": [
        "# prediction on training data\n",
        "\n",
        "X_train_prediction=model.predict(X_train_features)\n",
        "training_data_accuracy=accuracy_score(X_train_prediction,Y_train)"
      ],
      "metadata": {
        "id": "5rFLm__prUf4"
      },
      "execution_count": null,
      "outputs": []
    },
    {
      "cell_type": "code",
      "source": [
        "print('Accuracy score of the training data : ', training_data_accuracy )"
      ],
      "metadata": {
        "id": "mv1Nd-1Yrkxw"
      },
      "execution_count": null,
      "outputs": []
    },
    {
      "cell_type": "code",
      "source": [
        "# Step 4: Predict on test data\n",
        "\n",
        "X_test_prediction = model.predict(X_test_features)\n",
        "test_data_accuracy = accuracy_score(X_test_prediction, Y_test)\n",
        "\n",
        "print(\"Accuracy on test data:\", test_data_accuracy)\n"
      ],
      "metadata": {
        "id": "ItnkhL-FryIe"
      },
      "execution_count": null,
      "outputs": []
    },
    {
      "cell_type": "markdown",
      "source": [
        "Building a Predictive System"
      ],
      "metadata": {
        "id": "Gn61c6OuF_SO"
      }
    },
    {
      "cell_type": "code",
      "source": [
        "input_mail=[\"I've been searching for the right words to thank you for this breather. I promise i wont take your help for granted and will fulfill my promise. You have my word.\"]"
      ],
      "metadata": {
        "id": "w7MSfaLwsDUd"
      },
      "execution_count": null,
      "outputs": []
    },
    {
      "cell_type": "code",
      "source": [
        "#convert text to feature vector\n",
        "\n",
        "input_mail_features=feature_extraction.transform(input_mail)\n"
      ],
      "metadata": {
        "id": "UoBVRq6FGdVO"
      },
      "execution_count": null,
      "outputs": []
    },
    {
      "cell_type": "code",
      "source": [
        "#making predictions\n",
        "\n",
        "prediction=model.predict(input_mail_features)\n",
        "print(prediction)"
      ],
      "metadata": {
        "id": "Zhh2LOiaGwUm"
      },
      "execution_count": null,
      "outputs": []
    },
    {
      "cell_type": "code",
      "source": [
        "if(prediction[0]==1):\n",
        "  print('Ham mail')\n",
        "else:\n",
        "  print('Spam mail')"
      ],
      "metadata": {
        "id": "1zCV6gO_G3bv"
      },
      "execution_count": null,
      "outputs": []
    },
    {
      "cell_type": "code",
      "source": [],
      "metadata": {
        "id": "eeBXaGhpG-Rc"
      },
      "execution_count": null,
      "outputs": []
    }
  ]
}